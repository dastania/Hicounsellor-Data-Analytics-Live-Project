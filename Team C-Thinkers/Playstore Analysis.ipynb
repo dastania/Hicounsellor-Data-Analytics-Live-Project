{
 "cells": [
  {
   "cell_type": "code",
   "execution_count": 1,
   "id": "6805a207",
   "metadata": {},
   "outputs": [],
   "source": [
    "# importing library\n",
    "import pandas as pd\n",
    "import numpy as np\n",
    "import warnings\n",
    "warnings.filterwarnings('ignore')"
   ]
  },
  {
   "cell_type": "code",
   "execution_count": 2,
   "id": "6fb79747",
   "metadata": {},
   "outputs": [],
   "source": [
    "# loading playstore_apps dataset\n",
    "apps = pd.read_csv('playstore_apps.csv', index_col='App')"
   ]
  },
  {
   "cell_type": "code",
   "execution_count": 3,
   "id": "3eb36ab5",
   "metadata": {},
   "outputs": [],
   "source": [
    "# loading playstore_reviews dataset\n",
    "reviews = pd.read_csv('playstore_reviews.csv', index_col='App')"
   ]
  },
  {
   "cell_type": "code",
   "execution_count": 4,
   "id": "a805ee89",
   "metadata": {},
   "outputs": [
    {
     "data": {
      "text/html": [
       "<div>\n",
       "<style scoped>\n",
       "    .dataframe tbody tr th:only-of-type {\n",
       "        vertical-align: middle;\n",
       "    }\n",
       "\n",
       "    .dataframe tbody tr th {\n",
       "        vertical-align: top;\n",
       "    }\n",
       "\n",
       "    .dataframe thead th {\n",
       "        text-align: right;\n",
       "    }\n",
       "</style>\n",
       "<table border=\"1\" class=\"dataframe\">\n",
       "  <thead>\n",
       "    <tr style=\"text-align: right;\">\n",
       "      <th></th>\n",
       "      <th>Category</th>\n",
       "      <th>Rating</th>\n",
       "      <th>Reviews</th>\n",
       "      <th>Size</th>\n",
       "      <th>Installs</th>\n",
       "      <th>Type</th>\n",
       "      <th>Price</th>\n",
       "      <th>Content Rating</th>\n",
       "      <th>Genres</th>\n",
       "      <th>Last Updated</th>\n",
       "      <th>Current Ver</th>\n",
       "      <th>Android Ver</th>\n",
       "    </tr>\n",
       "    <tr>\n",
       "      <th>App</th>\n",
       "      <th></th>\n",
       "      <th></th>\n",
       "      <th></th>\n",
       "      <th></th>\n",
       "      <th></th>\n",
       "      <th></th>\n",
       "      <th></th>\n",
       "      <th></th>\n",
       "      <th></th>\n",
       "      <th></th>\n",
       "      <th></th>\n",
       "      <th></th>\n",
       "    </tr>\n",
       "  </thead>\n",
       "  <tbody>\n",
       "    <tr>\n",
       "      <th>Photo Editor &amp; Candy Camera &amp; Grid &amp; ScrapBook</th>\n",
       "      <td>ART_AND_DESIGN</td>\n",
       "      <td>4.1</td>\n",
       "      <td>159.0</td>\n",
       "      <td>19M</td>\n",
       "      <td>10000.0</td>\n",
       "      <td>Free</td>\n",
       "      <td>0.0</td>\n",
       "      <td>Everyone</td>\n",
       "      <td>Art &amp; Design</td>\n",
       "      <td>07-01-2018</td>\n",
       "      <td>1.0.0</td>\n",
       "      <td>4.0.3 and up</td>\n",
       "    </tr>\n",
       "    <tr>\n",
       "      <th>Coloring book moana</th>\n",
       "      <td>ART_AND_DESIGN</td>\n",
       "      <td>3.9</td>\n",
       "      <td>967.0</td>\n",
       "      <td>14M</td>\n",
       "      <td>500000.0</td>\n",
       "      <td>Free</td>\n",
       "      <td>0.0</td>\n",
       "      <td>Everyone</td>\n",
       "      <td>Art &amp; Design;Pretend Play</td>\n",
       "      <td>15-01-2018</td>\n",
       "      <td>2.0.0</td>\n",
       "      <td>4.0.3 and up</td>\n",
       "    </tr>\n",
       "    <tr>\n",
       "      <th>U Launcher Lite – FREE Live Cool Themes, Hide Apps</th>\n",
       "      <td>ART_AND_DESIGN</td>\n",
       "      <td>4.7</td>\n",
       "      <td>87510.0</td>\n",
       "      <td>8.7M</td>\n",
       "      <td>5000000.0</td>\n",
       "      <td>Free</td>\n",
       "      <td>0.0</td>\n",
       "      <td>Everyone</td>\n",
       "      <td>Art &amp; Design</td>\n",
       "      <td>01-08-2018</td>\n",
       "      <td>1.2.4</td>\n",
       "      <td>4.0.3 and up</td>\n",
       "    </tr>\n",
       "    <tr>\n",
       "      <th>Sketch - Draw &amp; Paint</th>\n",
       "      <td>ART_AND_DESIGN</td>\n",
       "      <td>4.5</td>\n",
       "      <td>215644.0</td>\n",
       "      <td>25M</td>\n",
       "      <td>50000000.0</td>\n",
       "      <td>Free</td>\n",
       "      <td>0.0</td>\n",
       "      <td>Teen</td>\n",
       "      <td>Art &amp; Design</td>\n",
       "      <td>08-06-2018</td>\n",
       "      <td>Varies with device</td>\n",
       "      <td>4.2 and up</td>\n",
       "    </tr>\n",
       "    <tr>\n",
       "      <th>Pixel Draw - Number Art Coloring Book</th>\n",
       "      <td>ART_AND_DESIGN</td>\n",
       "      <td>4.3</td>\n",
       "      <td>967.0</td>\n",
       "      <td>2.8M</td>\n",
       "      <td>100000.0</td>\n",
       "      <td>Free</td>\n",
       "      <td>0.0</td>\n",
       "      <td>Everyone</td>\n",
       "      <td>Art &amp; Design;Creativity</td>\n",
       "      <td>20-06-2018</td>\n",
       "      <td>1.1</td>\n",
       "      <td>4.4 and up</td>\n",
       "    </tr>\n",
       "  </tbody>\n",
       "</table>\n",
       "</div>"
      ],
      "text/plain": [
       "                                                          Category  Rating  \\\n",
       "App                                                                          \n",
       "Photo Editor & Candy Camera & Grid & ScrapBook      ART_AND_DESIGN     4.1   \n",
       "Coloring book moana                                 ART_AND_DESIGN     3.9   \n",
       "U Launcher Lite – FREE Live Cool Themes, Hide Apps  ART_AND_DESIGN     4.7   \n",
       "Sketch - Draw & Paint                               ART_AND_DESIGN     4.5   \n",
       "Pixel Draw - Number Art Coloring Book               ART_AND_DESIGN     4.3   \n",
       "\n",
       "                                                     Reviews  Size  \\\n",
       "App                                                                  \n",
       "Photo Editor & Candy Camera & Grid & ScrapBook         159.0   19M   \n",
       "Coloring book moana                                    967.0   14M   \n",
       "U Launcher Lite – FREE Live Cool Themes, Hide Apps   87510.0  8.7M   \n",
       "Sketch - Draw & Paint                               215644.0   25M   \n",
       "Pixel Draw - Number Art Coloring Book                  967.0  2.8M   \n",
       "\n",
       "                                                      Installs  Type  Price  \\\n",
       "App                                                                           \n",
       "Photo Editor & Candy Camera & Grid & ScrapBook         10000.0  Free    0.0   \n",
       "Coloring book moana                                   500000.0  Free    0.0   \n",
       "U Launcher Lite – FREE Live Cool Themes, Hide Apps   5000000.0  Free    0.0   \n",
       "Sketch - Draw & Paint                               50000000.0  Free    0.0   \n",
       "Pixel Draw - Number Art Coloring Book                 100000.0  Free    0.0   \n",
       "\n",
       "                                                   Content Rating  \\\n",
       "App                                                                 \n",
       "Photo Editor & Candy Camera & Grid & ScrapBook           Everyone   \n",
       "Coloring book moana                                      Everyone   \n",
       "U Launcher Lite – FREE Live Cool Themes, Hide Apps       Everyone   \n",
       "Sketch - Draw & Paint                                        Teen   \n",
       "Pixel Draw - Number Art Coloring Book                    Everyone   \n",
       "\n",
       "                                                                       Genres  \\\n",
       "App                                                                             \n",
       "Photo Editor & Candy Camera & Grid & ScrapBook                   Art & Design   \n",
       "Coloring book moana                                 Art & Design;Pretend Play   \n",
       "U Launcher Lite – FREE Live Cool Themes, Hide Apps               Art & Design   \n",
       "Sketch - Draw & Paint                                            Art & Design   \n",
       "Pixel Draw - Number Art Coloring Book                 Art & Design;Creativity   \n",
       "\n",
       "                                                   Last Updated  \\\n",
       "App                                                               \n",
       "Photo Editor & Candy Camera & Grid & ScrapBook       07-01-2018   \n",
       "Coloring book moana                                  15-01-2018   \n",
       "U Launcher Lite – FREE Live Cool Themes, Hide Apps   01-08-2018   \n",
       "Sketch - Draw & Paint                                08-06-2018   \n",
       "Pixel Draw - Number Art Coloring Book                20-06-2018   \n",
       "\n",
       "                                                           Current Ver  \\\n",
       "App                                                                      \n",
       "Photo Editor & Candy Camera & Grid & ScrapBook                   1.0.0   \n",
       "Coloring book moana                                              2.0.0   \n",
       "U Launcher Lite – FREE Live Cool Themes, Hide Apps               1.2.4   \n",
       "Sketch - Draw & Paint                               Varies with device   \n",
       "Pixel Draw - Number Art Coloring Book                              1.1   \n",
       "\n",
       "                                                     Android Ver  \n",
       "App                                                               \n",
       "Photo Editor & Candy Camera & Grid & ScrapBook      4.0.3 and up  \n",
       "Coloring book moana                                 4.0.3 and up  \n",
       "U Launcher Lite – FREE Live Cool Themes, Hide Apps  4.0.3 and up  \n",
       "Sketch - Draw & Paint                                 4.2 and up  \n",
       "Pixel Draw - Number Art Coloring Book                 4.4 and up  "
      ]
     },
     "execution_count": 4,
     "metadata": {},
     "output_type": "execute_result"
    }
   ],
   "source": [
    "# top 5 rows of playstore_apps dataset\n",
    "apps.head()"
   ]
  },
  {
   "cell_type": "code",
   "execution_count": 5,
   "id": "bc1a9e05",
   "metadata": {},
   "outputs": [
    {
     "data": {
      "text/html": [
       "<div>\n",
       "<style scoped>\n",
       "    .dataframe tbody tr th:only-of-type {\n",
       "        vertical-align: middle;\n",
       "    }\n",
       "\n",
       "    .dataframe tbody tr th {\n",
       "        vertical-align: top;\n",
       "    }\n",
       "\n",
       "    .dataframe thead th {\n",
       "        text-align: right;\n",
       "    }\n",
       "</style>\n",
       "<table border=\"1\" class=\"dataframe\">\n",
       "  <thead>\n",
       "    <tr style=\"text-align: right;\">\n",
       "      <th></th>\n",
       "      <th>Translated_Review</th>\n",
       "      <th>Sentiment</th>\n",
       "      <th>Sentiment_Polarity</th>\n",
       "      <th>Sentiment_Subjectivity</th>\n",
       "    </tr>\n",
       "    <tr>\n",
       "      <th>App</th>\n",
       "      <th></th>\n",
       "      <th></th>\n",
       "      <th></th>\n",
       "      <th></th>\n",
       "    </tr>\n",
       "  </thead>\n",
       "  <tbody>\n",
       "    <tr>\n",
       "      <th>10 Best Foods for You</th>\n",
       "      <td>I like eat delicious food. That's I'm cooking ...</td>\n",
       "      <td>Positive</td>\n",
       "      <td>1.00</td>\n",
       "      <td>0.533333</td>\n",
       "    </tr>\n",
       "    <tr>\n",
       "      <th>10 Best Foods for You</th>\n",
       "      <td>This help eating healthy exercise regular basis</td>\n",
       "      <td>Positive</td>\n",
       "      <td>0.25</td>\n",
       "      <td>0.288462</td>\n",
       "    </tr>\n",
       "    <tr>\n",
       "      <th>10 Best Foods for You</th>\n",
       "      <td>NaN</td>\n",
       "      <td>NaN</td>\n",
       "      <td>NaN</td>\n",
       "      <td>NaN</td>\n",
       "    </tr>\n",
       "    <tr>\n",
       "      <th>10 Best Foods for You</th>\n",
       "      <td>Works great especially going grocery store</td>\n",
       "      <td>Positive</td>\n",
       "      <td>0.40</td>\n",
       "      <td>0.875000</td>\n",
       "    </tr>\n",
       "    <tr>\n",
       "      <th>10 Best Foods for You</th>\n",
       "      <td>Best idea us</td>\n",
       "      <td>Positive</td>\n",
       "      <td>1.00</td>\n",
       "      <td>0.300000</td>\n",
       "    </tr>\n",
       "  </tbody>\n",
       "</table>\n",
       "</div>"
      ],
      "text/plain": [
       "                                                       Translated_Review  \\\n",
       "App                                                                        \n",
       "10 Best Foods for You  I like eat delicious food. That's I'm cooking ...   \n",
       "10 Best Foods for You    This help eating healthy exercise regular basis   \n",
       "10 Best Foods for You                                                NaN   \n",
       "10 Best Foods for You         Works great especially going grocery store   \n",
       "10 Best Foods for You                                       Best idea us   \n",
       "\n",
       "                      Sentiment  Sentiment_Polarity  Sentiment_Subjectivity  \n",
       "App                                                                          \n",
       "10 Best Foods for You  Positive                1.00                0.533333  \n",
       "10 Best Foods for You  Positive                0.25                0.288462  \n",
       "10 Best Foods for You       NaN                 NaN                     NaN  \n",
       "10 Best Foods for You  Positive                0.40                0.875000  \n",
       "10 Best Foods for You  Positive                1.00                0.300000  "
      ]
     },
     "execution_count": 5,
     "metadata": {},
     "output_type": "execute_result"
    }
   ],
   "source": [
    "# top 5 rows of playstore_reviews dataset\n",
    "reviews.head()"
   ]
  },
  {
   "cell_type": "code",
   "execution_count": 6,
   "id": "6108e237",
   "metadata": {},
   "outputs": [
    {
     "name": "stdout",
     "output_type": "stream",
     "text": [
      "<class 'pandas.core.frame.DataFrame'>\n",
      "Index: 10841 entries, Photo Editor & Candy Camera & Grid & ScrapBook to iHoroscope - 2018 Daily Horoscope & Astrology\n",
      "Data columns (total 12 columns):\n",
      " #   Column          Non-Null Count  Dtype  \n",
      "---  ------          --------------  -----  \n",
      " 0   Category        10841 non-null  object \n",
      " 1   Rating          9367 non-null   float64\n",
      " 2   Reviews         10840 non-null  float64\n",
      " 3   Size            10841 non-null  object \n",
      " 4   Installs        10840 non-null  float64\n",
      " 5   Type            10840 non-null  object \n",
      " 6   Price           10840 non-null  float64\n",
      " 7   Content Rating  10840 non-null  object \n",
      " 8   Genres          10841 non-null  object \n",
      " 9   Last Updated    10840 non-null  object \n",
      " 10  Current Ver     10833 non-null  object \n",
      " 11  Android Ver     10838 non-null  object \n",
      "dtypes: float64(4), object(8)\n",
      "memory usage: 1.1+ MB\n"
     ]
    }
   ],
   "source": [
    "# info\n",
    "apps.info()"
   ]
  },
  {
   "cell_type": "code",
   "execution_count": 7,
   "id": "44f1e67a",
   "metadata": {},
   "outputs": [
    {
     "data": {
      "text/plain": [
       "(10841, 12)"
      ]
     },
     "execution_count": 7,
     "metadata": {},
     "output_type": "execute_result"
    }
   ],
   "source": [
    "# dimensions\n",
    "apps.shape"
   ]
  },
  {
   "cell_type": "markdown",
   "id": "9f025099",
   "metadata": {},
   "source": [
    "### Data Preprocessing"
   ]
  },
  {
   "cell_type": "code",
   "execution_count": 8,
   "id": "b76b13a0",
   "metadata": {},
   "outputs": [],
   "source": [
    "# changing datatype of Last Updated from object--->datetime format\n",
    "apps['Last Updated'] = pd.to_datetime(apps['Last Updated'])"
   ]
  },
  {
   "cell_type": "code",
   "execution_count": 9,
   "id": "71fcb9f6",
   "metadata": {},
   "outputs": [
    {
     "name": "stdout",
     "output_type": "stream",
     "text": [
      "<class 'pandas.core.frame.DataFrame'>\n",
      "Index: 10841 entries, Photo Editor & Candy Camera & Grid & ScrapBook to iHoroscope - 2018 Daily Horoscope & Astrology\n",
      "Data columns (total 12 columns):\n",
      " #   Column          Non-Null Count  Dtype         \n",
      "---  ------          --------------  -----         \n",
      " 0   Category        10841 non-null  object        \n",
      " 1   Rating          9367 non-null   float64       \n",
      " 2   Reviews         10840 non-null  float64       \n",
      " 3   Size            10841 non-null  object        \n",
      " 4   Installs        10840 non-null  float64       \n",
      " 5   Type            10840 non-null  object        \n",
      " 6   Price           10840 non-null  float64       \n",
      " 7   Content Rating  10840 non-null  object        \n",
      " 8   Genres          10841 non-null  object        \n",
      " 9   Last Updated    10840 non-null  datetime64[ns]\n",
      " 10  Current Ver     10833 non-null  object        \n",
      " 11  Android Ver     10838 non-null  object        \n",
      "dtypes: datetime64[ns](1), float64(4), object(7)\n",
      "memory usage: 1.1+ MB\n"
     ]
    }
   ],
   "source": [
    "# looking at datatype\n",
    "apps.info()"
   ]
  },
  {
   "cell_type": "code",
   "execution_count": 10,
   "id": "209dfe1b",
   "metadata": {},
   "outputs": [
    {
     "data": {
      "text/plain": [
       "492"
      ]
     },
     "execution_count": 10,
     "metadata": {},
     "output_type": "execute_result"
    }
   ],
   "source": [
    "# duplicate data\n",
    "apps.duplicated().sum()"
   ]
  },
  {
   "cell_type": "code",
   "execution_count": 11,
   "id": "d796bc1e",
   "metadata": {},
   "outputs": [],
   "source": [
    "# dropping all duplicates\n",
    "apps.drop_duplicates(keep=False, inplace=True)"
   ]
  },
  {
   "cell_type": "code",
   "execution_count": 12,
   "id": "c3bdbbe5",
   "metadata": {},
   "outputs": [
    {
     "data": {
      "text/plain": [
       "0"
      ]
     },
     "execution_count": 12,
     "metadata": {},
     "output_type": "execute_result"
    }
   ],
   "source": [
    "# checking\n",
    "apps.duplicated().sum()"
   ]
  },
  {
   "cell_type": "code",
   "execution_count": 13,
   "id": "70380f6d",
   "metadata": {},
   "outputs": [
    {
     "data": {
      "text/html": [
       "<div>\n",
       "<style scoped>\n",
       "    .dataframe tbody tr th:only-of-type {\n",
       "        vertical-align: middle;\n",
       "    }\n",
       "\n",
       "    .dataframe tbody tr th {\n",
       "        vertical-align: top;\n",
       "    }\n",
       "\n",
       "    .dataframe thead th {\n",
       "        text-align: right;\n",
       "    }\n",
       "</style>\n",
       "<table border=\"1\" class=\"dataframe\">\n",
       "  <thead>\n",
       "    <tr style=\"text-align: right;\">\n",
       "      <th></th>\n",
       "      <th>Rating</th>\n",
       "      <th>Reviews</th>\n",
       "      <th>Installs</th>\n",
       "      <th>Price</th>\n",
       "    </tr>\n",
       "  </thead>\n",
       "  <tbody>\n",
       "    <tr>\n",
       "      <th>count</th>\n",
       "      <td>8487.000000</td>\n",
       "      <td>9.929000e+03</td>\n",
       "      <td>9.929000e+03</td>\n",
       "      <td>9929.000000</td>\n",
       "    </tr>\n",
       "    <tr>\n",
       "      <th>mean</th>\n",
       "      <td>4.186049</td>\n",
       "      <td>3.665892e+05</td>\n",
       "      <td>1.288517e+07</td>\n",
       "      <td>1.029441</td>\n",
       "    </tr>\n",
       "    <tr>\n",
       "      <th>std</th>\n",
       "      <td>0.552571</td>\n",
       "      <td>2.414751e+06</td>\n",
       "      <td>7.509575e+07</td>\n",
       "      <td>16.586355</td>\n",
       "    </tr>\n",
       "    <tr>\n",
       "      <th>min</th>\n",
       "      <td>1.000000</td>\n",
       "      <td>0.000000e+00</td>\n",
       "      <td>0.000000e+00</td>\n",
       "      <td>0.000000</td>\n",
       "    </tr>\n",
       "    <tr>\n",
       "      <th>25%</th>\n",
       "      <td>4.000000</td>\n",
       "      <td>2.900000e+01</td>\n",
       "      <td>1.000000e+03</td>\n",
       "      <td>0.000000</td>\n",
       "    </tr>\n",
       "    <tr>\n",
       "      <th>50%</th>\n",
       "      <td>4.300000</td>\n",
       "      <td>1.405000e+03</td>\n",
       "      <td>1.000000e+05</td>\n",
       "      <td>0.000000</td>\n",
       "    </tr>\n",
       "    <tr>\n",
       "      <th>75%</th>\n",
       "      <td>4.500000</td>\n",
       "      <td>4.150200e+04</td>\n",
       "      <td>1.000000e+06</td>\n",
       "      <td>0.000000</td>\n",
       "    </tr>\n",
       "    <tr>\n",
       "      <th>max</th>\n",
       "      <td>19.000000</td>\n",
       "      <td>7.815831e+07</td>\n",
       "      <td>1.000000e+09</td>\n",
       "      <td>400.000000</td>\n",
       "    </tr>\n",
       "  </tbody>\n",
       "</table>\n",
       "</div>"
      ],
      "text/plain": [
       "            Rating       Reviews      Installs        Price\n",
       "count  8487.000000  9.929000e+03  9.929000e+03  9929.000000\n",
       "mean      4.186049  3.665892e+05  1.288517e+07     1.029441\n",
       "std       0.552571  2.414751e+06  7.509575e+07    16.586355\n",
       "min       1.000000  0.000000e+00  0.000000e+00     0.000000\n",
       "25%       4.000000  2.900000e+01  1.000000e+03     0.000000\n",
       "50%       4.300000  1.405000e+03  1.000000e+05     0.000000\n",
       "75%       4.500000  4.150200e+04  1.000000e+06     0.000000\n",
       "max      19.000000  7.815831e+07  1.000000e+09   400.000000"
      ]
     },
     "execution_count": 13,
     "metadata": {},
     "output_type": "execute_result"
    }
   ],
   "source": [
    "# data description\n",
    "apps.describe()"
   ]
  },
  {
   "cell_type": "code",
   "execution_count": 14,
   "id": "58cb61a4",
   "metadata": {},
   "outputs": [
    {
     "data": {
      "text/plain": [
       "Category             0\n",
       "Rating            1443\n",
       "Reviews              1\n",
       "Size                 0\n",
       "Installs             1\n",
       "Type                 1\n",
       "Price                1\n",
       "Content Rating       1\n",
       "Genres               0\n",
       "Last Updated         1\n",
       "Current Ver          8\n",
       "Android Ver          3\n",
       "dtype: int64"
      ]
     },
     "execution_count": 14,
     "metadata": {},
     "output_type": "execute_result"
    }
   ],
   "source": [
    "# looking for null values\n",
    "apps.isnull().sum()"
   ]
  },
  {
   "cell_type": "code",
   "execution_count": 15,
   "id": "2167a9ae",
   "metadata": {},
   "outputs": [
    {
     "data": {
      "text/plain": [
       "Category           0.00\n",
       "Rating            14.53\n",
       "Reviews            0.01\n",
       "Size               0.00\n",
       "Installs           0.01\n",
       "Type               0.01\n",
       "Price              0.01\n",
       "Content Rating     0.01\n",
       "Genres             0.00\n",
       "Last Updated       0.01\n",
       "Current Ver        0.08\n",
       "Android Ver        0.03\n",
       "dtype: float64"
      ]
     },
     "execution_count": 15,
     "metadata": {},
     "output_type": "execute_result"
    }
   ],
   "source": [
    "# Checking for the percentage of missing value\n",
    "round(100*(apps.isnull().sum()/len(apps.isnull())),2)"
   ]
  },
  {
   "cell_type": "markdown",
   "id": "880eac0a",
   "metadata": {},
   "source": [
    "**Category Column**"
   ]
  },
  {
   "cell_type": "code",
   "execution_count": 16,
   "id": "5f3e1d13",
   "metadata": {},
   "outputs": [
    {
     "data": {
      "text/plain": [
       "array(['ART_AND_DESIGN', 'AUTO_AND_VEHICLES', 'BEAUTY',\n",
       "       'BOOKS_AND_REFERENCE', 'BUSINESS', 'COMICS', 'COMMUNICATION',\n",
       "       'DATING', 'EDUCATION', 'ENTERTAINMENT', 'EVENTS', 'FINANCE',\n",
       "       'FOOD_AND_DRINK', 'HEALTH_AND_FITNESS', 'HOUSE_AND_HOME',\n",
       "       'LIBRARIES_AND_DEMO', 'LIFESTYLE', 'GAME', 'FAMILY', 'MEDICAL',\n",
       "       'SOCIAL', 'SHOPPING', 'PHOTOGRAPHY', 'SPORTS', 'TRAVEL_AND_LOCAL',\n",
       "       'TOOLS', 'PERSONALIZATION', 'PRODUCTIVITY', 'PARENTING', 'WEATHER',\n",
       "       'VIDEO_PLAYERS', 'NEWS_AND_MAGAZINES', 'MAPS_AND_NAVIGATION',\n",
       "       '1.9'], dtype=object)"
      ]
     },
     "execution_count": 16,
     "metadata": {},
     "output_type": "execute_result"
    }
   ],
   "source": [
    "# inspecting category column\n",
    "apps['Category'].unique()"
   ]
  },
  {
   "cell_type": "code",
   "execution_count": 17,
   "id": "edce3fcd",
   "metadata": {},
   "outputs": [
    {
     "data": {
      "text/html": [
       "<div>\n",
       "<style scoped>\n",
       "    .dataframe tbody tr th:only-of-type {\n",
       "        vertical-align: middle;\n",
       "    }\n",
       "\n",
       "    .dataframe tbody tr th {\n",
       "        vertical-align: top;\n",
       "    }\n",
       "\n",
       "    .dataframe thead th {\n",
       "        text-align: right;\n",
       "    }\n",
       "</style>\n",
       "<table border=\"1\" class=\"dataframe\">\n",
       "  <thead>\n",
       "    <tr style=\"text-align: right;\">\n",
       "      <th></th>\n",
       "      <th>Category</th>\n",
       "      <th>Rating</th>\n",
       "      <th>Reviews</th>\n",
       "      <th>Size</th>\n",
       "      <th>Installs</th>\n",
       "      <th>Type</th>\n",
       "      <th>Price</th>\n",
       "      <th>Content Rating</th>\n",
       "      <th>Genres</th>\n",
       "      <th>Last Updated</th>\n",
       "      <th>Current Ver</th>\n",
       "      <th>Android Ver</th>\n",
       "    </tr>\n",
       "    <tr>\n",
       "      <th>App</th>\n",
       "      <th></th>\n",
       "      <th></th>\n",
       "      <th></th>\n",
       "      <th></th>\n",
       "      <th></th>\n",
       "      <th></th>\n",
       "      <th></th>\n",
       "      <th></th>\n",
       "      <th></th>\n",
       "      <th></th>\n",
       "      <th></th>\n",
       "      <th></th>\n",
       "    </tr>\n",
       "  </thead>\n",
       "  <tbody>\n",
       "    <tr>\n",
       "      <th>Life Made WI-Fi Touchscreen Photo Frame</th>\n",
       "      <td>1.9</td>\n",
       "      <td>19.0</td>\n",
       "      <td>NaN</td>\n",
       "      <td>1,000+</td>\n",
       "      <td>NaN</td>\n",
       "      <td>0</td>\n",
       "      <td>NaN</td>\n",
       "      <td>NaN</td>\n",
       "      <td>February 11, 2018</td>\n",
       "      <td>NaT</td>\n",
       "      <td>4.0 and up</td>\n",
       "      <td>NaN</td>\n",
       "    </tr>\n",
       "  </tbody>\n",
       "</table>\n",
       "</div>"
      ],
      "text/plain": [
       "                                        Category  Rating  Reviews    Size  \\\n",
       "App                                                                         \n",
       "Life Made WI-Fi Touchscreen Photo Frame      1.9    19.0      NaN  1,000+   \n",
       "\n",
       "                                         Installs Type  Price Content Rating  \\\n",
       "App                                                                            \n",
       "Life Made WI-Fi Touchscreen Photo Frame       NaN    0    NaN            NaN   \n",
       "\n",
       "                                                    Genres Last Updated  \\\n",
       "App                                                                       \n",
       "Life Made WI-Fi Touchscreen Photo Frame  February 11, 2018          NaT   \n",
       "\n",
       "                                        Current Ver Android Ver  \n",
       "App                                                              \n",
       "Life Made WI-Fi Touchscreen Photo Frame  4.0 and up         NaN  "
      ]
     },
     "execution_count": 17,
     "metadata": {},
     "output_type": "execute_result"
    }
   ],
   "source": [
    "apps[apps['Category']=='1.9']"
   ]
  },
  {
   "cell_type": "code",
   "execution_count": 18,
   "id": "2bc59bc0",
   "metadata": {},
   "outputs": [],
   "source": [
    "# dropping the missing records\n",
    "apps.drop('Life Made WI-Fi Touchscreen Photo Frame',inplace=True)"
   ]
  },
  {
   "cell_type": "code",
   "execution_count": 19,
   "id": "24e20ab7",
   "metadata": {},
   "outputs": [
    {
     "data": {
      "text/plain": [
       "array(['ART_AND_DESIGN', 'AUTO_AND_VEHICLES', 'BEAUTY',\n",
       "       'BOOKS_AND_REFERENCE', 'BUSINESS', 'COMICS', 'COMMUNICATION',\n",
       "       'DATING', 'EDUCATION', 'ENTERTAINMENT', 'EVENTS', 'FINANCE',\n",
       "       'FOOD_AND_DRINK', 'HEALTH_AND_FITNESS', 'HOUSE_AND_HOME',\n",
       "       'LIBRARIES_AND_DEMO', 'LIFESTYLE', 'GAME', 'FAMILY', 'MEDICAL',\n",
       "       'SOCIAL', 'SHOPPING', 'PHOTOGRAPHY', 'SPORTS', 'TRAVEL_AND_LOCAL',\n",
       "       'TOOLS', 'PERSONALIZATION', 'PRODUCTIVITY', 'PARENTING', 'WEATHER',\n",
       "       'VIDEO_PLAYERS', 'NEWS_AND_MAGAZINES', 'MAPS_AND_NAVIGATION'],\n",
       "      dtype=object)"
      ]
     },
     "execution_count": 19,
     "metadata": {},
     "output_type": "execute_result"
    }
   ],
   "source": [
    "apps['Category'].unique()"
   ]
  },
  {
   "cell_type": "code",
   "execution_count": 20,
   "id": "01dfb2af",
   "metadata": {},
   "outputs": [
    {
     "data": {
      "text/plain": [
       "FAMILY                 1915\n",
       "GAME                   1098\n",
       "TOOLS                   843\n",
       "BUSINESS                398\n",
       "PRODUCTIVITY            392\n",
       "PERSONALIZATION         385\n",
       "LIFESTYLE               365\n",
       "FINANCE                 354\n",
       "MEDICAL                 348\n",
       "COMMUNICATION           346\n",
       "SPORTS                  320\n",
       "PHOTOGRAPHY             312\n",
       "HEALTH_AND_FITNESS      273\n",
       "SOCIAL                  267\n",
       "NEWS_AND_MAGAZINES      249\n",
       "BOOKS_AND_REFERENCE     229\n",
       "TRAVEL_AND_LOCAL        223\n",
       "SHOPPING                199\n",
       "VIDEO_PLAYERS           175\n",
       "DATING                  160\n",
       "MAPS_AND_NAVIGATION     137\n",
       "FOOD_AND_DRINK          119\n",
       "EDUCATION               111\n",
       "ENTERTAINMENT            85\n",
       "LIBRARIES_AND_DEMO       85\n",
       "AUTO_AND_VEHICLES        85\n",
       "WEATHER                  82\n",
       "HOUSE_AND_HOME           72\n",
       "ART_AND_DESIGN           65\n",
       "EVENTS                   64\n",
       "COMICS                   60\n",
       "PARENTING                60\n",
       "BEAUTY                   53\n",
       "Name: Category, dtype: int64"
      ]
     },
     "execution_count": 20,
     "metadata": {},
     "output_type": "execute_result"
    }
   ],
   "source": [
    "apps['Category'].value_counts()"
   ]
  },
  {
   "cell_type": "markdown",
   "id": "d4456752",
   "metadata": {},
   "source": [
    "**Rating column**"
   ]
  },
  {
   "cell_type": "code",
   "execution_count": 21,
   "id": "ea396dc1",
   "metadata": {},
   "outputs": [],
   "source": [
    "# Imputing Nan values with 0 (acc. to doc.)\n",
    "apps['Rating'] = apps['Rating'].fillna(0)"
   ]
  },
  {
   "cell_type": "code",
   "execution_count": 22,
   "id": "af91f96b",
   "metadata": {},
   "outputs": [
    {
     "data": {
      "text/plain": [
       "0"
      ]
     },
     "execution_count": 22,
     "metadata": {},
     "output_type": "execute_result"
    }
   ],
   "source": [
    "# checking for null\n",
    "apps['Rating'].isnull().sum()"
   ]
  },
  {
   "cell_type": "code",
   "execution_count": 23,
   "id": "4156aed4",
   "metadata": {},
   "outputs": [
    {
     "data": {
      "text/plain": [
       "array([4.1, 3.9, 4.7, 4.5, 4.3, 4.4, 3.8, 4.2, 4.6, 3.2, 4. , 0. , 4.8,\n",
       "       4.9, 3.6, 3.7, 3.3, 3.4, 3.5, 3.1, 5. , 2.6, 3. , 2.5, 1. , 1.9,\n",
       "       2.9, 2.8, 2.3, 2.2, 1.7, 2. , 1.8, 2.7, 2.4, 1.6, 2.1, 1.4, 1.5,\n",
       "       1.2])"
      ]
     },
     "execution_count": 23,
     "metadata": {},
     "output_type": "execute_result"
    }
   ],
   "source": [
    "# unique values\n",
    "apps['Rating'].unique()"
   ]
  },
  {
   "cell_type": "markdown",
   "id": "ffe13a44",
   "metadata": {},
   "source": [
    "**Reviews column**"
   ]
  },
  {
   "cell_type": "code",
   "execution_count": 24,
   "id": "06c440ff",
   "metadata": {},
   "outputs": [
    {
     "data": {
      "text/plain": [
       "0"
      ]
     },
     "execution_count": 24,
     "metadata": {},
     "output_type": "execute_result"
    }
   ],
   "source": [
    "# looking for null values\n",
    "apps['Reviews'].isnull().sum()"
   ]
  },
  {
   "cell_type": "code",
   "execution_count": 25,
   "id": "8d56b32e",
   "metadata": {},
   "outputs": [
    {
     "data": {
      "text/plain": [
       "array([1.59000e+02, 9.67000e+02, 8.75100e+04, ..., 6.03000e+02,\n",
       "       1.19500e+03, 3.98307e+05])"
      ]
     },
     "execution_count": 25,
     "metadata": {},
     "output_type": "execute_result"
    }
   ],
   "source": [
    "# unique values\n",
    "apps['Reviews'].unique()"
   ]
  },
  {
   "cell_type": "markdown",
   "id": "c80249f7",
   "metadata": {},
   "source": [
    "**Size column**"
   ]
  },
  {
   "cell_type": "code",
   "execution_count": 26,
   "id": "d12585f3",
   "metadata": {},
   "outputs": [
    {
     "data": {
      "text/plain": [
       "0"
      ]
     },
     "execution_count": 26,
     "metadata": {},
     "output_type": "execute_result"
    }
   ],
   "source": [
    "# looking for null values\n",
    "apps['Size'].isnull().sum()"
   ]
  },
  {
   "cell_type": "code",
   "execution_count": 27,
   "id": "532e3d39",
   "metadata": {},
   "outputs": [
    {
     "data": {
      "text/plain": [
       "array(['19M', '14M', '8.7M', '25M', '2.8M', '5.6M', '29M', '33M', '3.1M',\n",
       "       '28M', '12M', '20M', '21M', '37M', '2.7M', '5.5M', '17M', '39M',\n",
       "       '31M', '4.2M', '7.0M', '23M', '6.0M', '6.1M', '4.6M', '9.2M',\n",
       "       '5.2M', '11M', '24M', 'Varies with device', '9.4M', '15M', '10M',\n",
       "       '1.2M', '26M', '8.0M', '7.9M', '56M', '57M', '35M', '54M', '201k',\n",
       "       '3.6M', '5.7M', '8.6M', '2.4M', '27M', '2.5M', '16M', '3.4M',\n",
       "       '8.9M', '3.9M', '2.9M', '38M', '32M', '5.4M', '18M', '1.1M',\n",
       "       '2.2M', '4.5M', '9.8M', '52M', '9.0M', '6.7M', '30M', '2.6M',\n",
       "       '7.1M', '3.7M', '22M', '7.4M', '6.4M', '3.2M', '8.2M', '9.9M',\n",
       "       '4.9M', '9.5M', '5.0M', '5.9M', '13M', '73M', '6.8M', '3.5M',\n",
       "       '4.0M', '2.3M', '7.2M', '2.1M', '42M', '7.3M', '9.1M', '55M',\n",
       "       '23k', '6.5M', '1.5M', '7.5M', '46M', '8.3M', '4.3M', '4.7M',\n",
       "       '3.3M', '40M', '7.8M', '8.8M', '6.6M', '5.1M', '61M', '66M', '79k',\n",
       "       '8.4M', '118k', '44M', '695k', '1.6M', '6.2M', '18k', '53M',\n",
       "       '1.4M', '3.0M', '5.8M', '3.8M', '9.6M', '45M', '63M', '49M',\n",
       "       '4.4M', '70M', '6.9M', '9.3M', '10.0M', '8.1M', '36M', '41M',\n",
       "       '51M', '84M', '97M', '2.0M', '1.9M', '1.8M', '5.3M', '48M', '47M',\n",
       "       '556k', '526k', '76M', '7.6M', '59M', '9.7M', '78M', '8.5M', '72M',\n",
       "       '43M', '7.7M', '77M', '6.3M', '334k', '34M', '93M', '65M', '79M',\n",
       "       '100M', '58M', '50M', '68M', '64M', '94M', '232k', '99M', '624k',\n",
       "       '95M', '8.5k', '41k', '292k', '11k', '80M', '1.7M', '67M', '74M',\n",
       "       '62M', '69M', '75M', '85M', '82M', '96M', '87M', '60M', '71M',\n",
       "       '98M', '86M', '91M', '81M', '92M', '83M', '88M', '862k', '899k',\n",
       "       '378k', '266k', '375k', '1.3M', '975k', '980k', '4.1M', '89M',\n",
       "       '696k', '544k', '525k', '920k', '779k', '853k', '720k', '713k',\n",
       "       '4.8M', '772k', '318k', '58k', '241k', '196k', '857k', '51k',\n",
       "       '953k', '865k', '251k', '930k', '540k', '313k', '746k', '203k',\n",
       "       '26k', '314k', '239k', '371k', '220k', '730k', '756k', '91k',\n",
       "       '293k', '17k', '74k', '14k', '317k', '78k', '924k', '902k', '818k',\n",
       "       '81k', '939k', '169k', '45k', '475k', '965k', '90M', '545k', '61k',\n",
       "       '283k', '655k', '714k', '93k', '872k', '121k', '322k', '1.0M',\n",
       "       '976k', '172k', '238k', '549k', '206k', '954k', '444k', '717k',\n",
       "       '210k', '609k', '308k', '705k', '306k', '904k', '473k', '175k',\n",
       "       '350k', '383k', '454k', '421k', '70k', '812k', '442k', '842k',\n",
       "       '417k', '412k', '459k', '478k', '335k', '782k', '721k', '430k',\n",
       "       '429k', '192k', '200k', '460k', '728k', '496k', '816k', '414k',\n",
       "       '506k', '887k', '613k', '243k', '569k', '778k', '683k', '592k',\n",
       "       '319k', '186k', '840k', '647k', '191k', '373k', '437k', '598k',\n",
       "       '716k', '585k', '982k', '222k', '219k', '55k', '948k', '323k',\n",
       "       '691k', '511k', '951k', '963k', '25k', '554k', '351k', '27k',\n",
       "       '82k', '208k', '913k', '514k', '551k', '29k', '103k', '898k',\n",
       "       '743k', '116k', '153k', '209k', '353k', '499k', '173k', '597k',\n",
       "       '809k', '122k', '411k', '400k', '801k', '787k', '237k', '50k',\n",
       "       '643k', '986k', '97k', '516k', '837k', '780k', '961k', '269k',\n",
       "       '20k', '498k', '600k', '749k', '642k', '881k', '72k', '656k',\n",
       "       '601k', '221k', '228k', '108k', '940k', '176k', '33k', '663k',\n",
       "       '34k', '942k', '259k', '164k', '458k', '245k', '629k', '28k',\n",
       "       '288k', '775k', '785k', '636k', '916k', '994k', '309k', '485k',\n",
       "       '914k', '903k', '608k', '500k', '54k', '562k', '847k', '957k',\n",
       "       '688k', '811k', '270k', '48k', '329k', '523k', '921k', '874k',\n",
       "       '981k', '784k', '280k', '24k', '518k', '754k', '892k', '154k',\n",
       "       '860k', '364k', '387k', '626k', '161k', '879k', '39k', '970k',\n",
       "       '170k', '141k', '160k', '144k', '143k', '190k', '376k', '193k',\n",
       "       '246k', '73k', '658k', '992k', '253k', '420k', '404k', '470k',\n",
       "       '226k', '240k', '89k', '234k', '257k', '861k', '467k', '157k',\n",
       "       '44k', '676k', '67k', '552k', '885k', '1020k', '582k', '619k'],\n",
       "      dtype=object)"
      ]
     },
     "execution_count": 27,
     "metadata": {},
     "output_type": "execute_result"
    }
   ],
   "source": [
    "# unique values\n",
    "apps['Size'].unique()"
   ]
  },
  {
   "cell_type": "markdown",
   "id": "d4059424",
   "metadata": {},
   "source": [
    "**Installs column**"
   ]
  },
  {
   "cell_type": "code",
   "execution_count": 28,
   "id": "63492e67",
   "metadata": {},
   "outputs": [
    {
     "data": {
      "text/plain": [
       "0"
      ]
     },
     "execution_count": 28,
     "metadata": {},
     "output_type": "execute_result"
    }
   ],
   "source": [
    "#looking for null values\n",
    "apps['Installs'].isnull().sum()"
   ]
  },
  {
   "cell_type": "code",
   "execution_count": 29,
   "id": "47a199b4",
   "metadata": {},
   "outputs": [
    {
     "data": {
      "text/plain": [
       "array([1.e+04, 5.e+05, 5.e+06, 5.e+07, 1.e+05, 5.e+04, 1.e+06, 1.e+07,\n",
       "       5.e+03, 1.e+08, 1.e+09, 1.e+03, 5.e+08, 5.e+01, 1.e+02, 5.e+02,\n",
       "       1.e+01, 1.e+00, 5.e+00, 0.e+00])"
      ]
     },
     "execution_count": 29,
     "metadata": {},
     "output_type": "execute_result"
    }
   ],
   "source": [
    "# unique values\n",
    "apps['Installs'].unique()"
   ]
  },
  {
   "cell_type": "code",
   "execution_count": 30,
   "id": "bd1c107f",
   "metadata": {},
   "outputs": [
    {
     "data": {
      "text/plain": [
       "1.000000e+06    1408\n",
       "1.000000e+05    1089\n",
       "1.000000e+07    1039\n",
       "1.000000e+04    1013\n",
       "1.000000e+03     873\n",
       "1.000000e+02     699\n",
       "5.000000e+06     629\n",
       "5.000000e+05     496\n",
       "5.000000e+04     467\n",
       "5.000000e+03     463\n",
       "1.000000e+01     376\n",
       "1.000000e+08     337\n",
       "5.000000e+02     324\n",
       "5.000000e+07     258\n",
       "5.000000e+01     203\n",
       "5.000000e+00      82\n",
       "1.000000e+00      67\n",
       "5.000000e+08      50\n",
       "1.000000e+09      41\n",
       "0.000000e+00      15\n",
       "Name: Installs, dtype: int64"
      ]
     },
     "execution_count": 30,
     "metadata": {},
     "output_type": "execute_result"
    }
   ],
   "source": [
    "apps['Installs'].value_counts()"
   ]
  },
  {
   "cell_type": "markdown",
   "id": "c65026cc",
   "metadata": {},
   "source": [
    "**Type column**"
   ]
  },
  {
   "cell_type": "code",
   "execution_count": 31,
   "id": "1ae0cfdd",
   "metadata": {},
   "outputs": [
    {
     "data": {
      "text/plain": [
       "1"
      ]
     },
     "execution_count": 31,
     "metadata": {},
     "output_type": "execute_result"
    }
   ],
   "source": [
    "# looking for null values\n",
    "apps['Type'].isnull().sum()"
   ]
  },
  {
   "cell_type": "code",
   "execution_count": 32,
   "id": "35b6f2b6",
   "metadata": {},
   "outputs": [],
   "source": [
    "# removing the row with missing values (acc.to doc)\n",
    "apps = apps[~apps['Type'].isnull()]"
   ]
  },
  {
   "cell_type": "code",
   "execution_count": 33,
   "id": "d875f913",
   "metadata": {},
   "outputs": [
    {
     "data": {
      "text/plain": [
       "0"
      ]
     },
     "execution_count": 33,
     "metadata": {},
     "output_type": "execute_result"
    }
   ],
   "source": [
    "# checking null\n",
    "apps['Type'].isnull().sum()"
   ]
  },
  {
   "cell_type": "code",
   "execution_count": 34,
   "id": "e4a5186c",
   "metadata": {},
   "outputs": [
    {
     "data": {
      "text/plain": [
       "array(['Free', 'Paid'], dtype=object)"
      ]
     },
     "execution_count": 34,
     "metadata": {},
     "output_type": "execute_result"
    }
   ],
   "source": [
    "# unique values\n",
    "apps['Type'].unique()"
   ]
  },
  {
   "cell_type": "code",
   "execution_count": 35,
   "id": "f6316a2d",
   "metadata": {},
   "outputs": [
    {
     "data": {
      "text/plain": [
       "Free    9197\n",
       "Paid     731\n",
       "Name: Type, dtype: int64"
      ]
     },
     "execution_count": 35,
     "metadata": {},
     "output_type": "execute_result"
    }
   ],
   "source": [
    "apps['Type'].value_counts()"
   ]
  },
  {
   "cell_type": "markdown",
   "id": "647c90e0",
   "metadata": {},
   "source": [
    "**Price Column**"
   ]
  },
  {
   "cell_type": "code",
   "execution_count": 36,
   "id": "f1de921a",
   "metadata": {},
   "outputs": [
    {
     "data": {
      "text/plain": [
       "0"
      ]
     },
     "execution_count": 36,
     "metadata": {},
     "output_type": "execute_result"
    }
   ],
   "source": [
    "# looking for null values\n",
    "apps['Price'].isnull().sum()"
   ]
  },
  {
   "cell_type": "code",
   "execution_count": 37,
   "id": "071906d8",
   "metadata": {},
   "outputs": [
    {
     "data": {
      "text/plain": [
       "array([  0.  ,   3.99,   6.99,   1.49,   2.99,   7.99,   5.99,   4.99,\n",
       "         3.49,   1.99,   9.99,   7.49,   0.99,   1.  ,   2.49,  10.99,\n",
       "         1.5 ,  14.99,  15.99,  74.99,  39.99,   3.95,  29.99,   4.49,\n",
       "         1.7 ,   8.99,   2.  ,   3.88,  25.99, 399.99,  17.99, 400.  ,\n",
       "         3.02,   1.76,   4.84,   4.77,   1.61,   2.5 ,  19.99,   1.59,\n",
       "         6.49,   1.29,   5.  ,  13.99, 299.99, 379.99,  37.99,  18.99,\n",
       "       389.99,  19.9 ,   8.49,   1.75,  11.99,  14.  ,   4.85,  46.99,\n",
       "         5.49, 109.99, 154.99,   3.08,   2.59,   4.8 ,   1.96,  19.4 ,\n",
       "         3.9 ,   4.59,  15.46,  10.  ,   3.04,  12.99,   4.29,   2.6 ,\n",
       "         3.28,   4.6 ,  28.99,   2.95,   2.9 ,   1.97,  24.99, 200.  ,\n",
       "        89.99,   2.56,  30.99,   3.61, 394.99,   1.26,  16.99,   1.2 ,\n",
       "         1.04])"
      ]
     },
     "execution_count": 37,
     "metadata": {},
     "output_type": "execute_result"
    }
   ],
   "source": [
    "# unique\n",
    "apps['Price'].unique()"
   ]
  },
  {
   "cell_type": "code",
   "execution_count": 38,
   "id": "415ee3ed",
   "metadata": {},
   "outputs": [
    {
     "data": {
      "text/plain": [
       "count    9928.000000\n",
       "mean        1.029545\n",
       "std        16.587187\n",
       "min         0.000000\n",
       "25%         0.000000\n",
       "50%         0.000000\n",
       "75%         0.000000\n",
       "max       400.000000\n",
       "Name: Price, dtype: float64"
      ]
     },
     "execution_count": 38,
     "metadata": {},
     "output_type": "execute_result"
    }
   ],
   "source": [
    "# description\n",
    "apps['Price'].describe()"
   ]
  },
  {
   "cell_type": "markdown",
   "id": "f7a228c0",
   "metadata": {},
   "source": [
    "**Content Rating Column**"
   ]
  },
  {
   "cell_type": "code",
   "execution_count": 39,
   "id": "d00f8d4a",
   "metadata": {},
   "outputs": [
    {
     "data": {
      "text/plain": [
       "0"
      ]
     },
     "execution_count": 39,
     "metadata": {},
     "output_type": "execute_result"
    }
   ],
   "source": [
    "# looking for null value\n",
    "apps['Content Rating'].isnull().sum()"
   ]
  },
  {
   "cell_type": "code",
   "execution_count": 40,
   "id": "eccf889d",
   "metadata": {},
   "outputs": [
    {
     "data": {
      "text/plain": [
       "array(['Everyone', 'Teen', 'Everyone 10+', 'Mature 17+',\n",
       "       'Adults only 18+', 'Unrated'], dtype=object)"
      ]
     },
     "execution_count": 40,
     "metadata": {},
     "output_type": "execute_result"
    }
   ],
   "source": [
    "# unique values\n",
    "apps['Content Rating'].unique()"
   ]
  },
  {
   "cell_type": "code",
   "execution_count": 41,
   "id": "9f08c3b2",
   "metadata": {},
   "outputs": [
    {
     "data": {
      "text/plain": [
       "Everyone           8076\n",
       "Teen               1099\n",
       "Mature 17+          398\n",
       "Everyone 10+        350\n",
       "Adults only 18+       3\n",
       "Unrated               2\n",
       "Name: Content Rating, dtype: int64"
      ]
     },
     "execution_count": 41,
     "metadata": {},
     "output_type": "execute_result"
    }
   ],
   "source": [
    "apps['Content Rating'].value_counts()"
   ]
  },
  {
   "cell_type": "markdown",
   "id": "ac32f51a",
   "metadata": {},
   "source": [
    "**Genres column**"
   ]
  },
  {
   "cell_type": "code",
   "execution_count": 42,
   "id": "eb588c96",
   "metadata": {},
   "outputs": [
    {
     "data": {
      "text/plain": [
       "0"
      ]
     },
     "execution_count": 42,
     "metadata": {},
     "output_type": "execute_result"
    }
   ],
   "source": [
    "# looking for null values\n",
    "apps['Genres'].isnull().sum()"
   ]
  },
  {
   "cell_type": "code",
   "execution_count": 43,
   "id": "fb0bd629",
   "metadata": {},
   "outputs": [
    {
     "data": {
      "text/plain": [
       "array(['Art & Design', 'Art & Design;Pretend Play',\n",
       "       'Art & Design;Creativity', 'Art & Design;Action & Adventure',\n",
       "       'Auto & Vehicles', 'Beauty', 'Books & Reference', 'Business',\n",
       "       'Comics', 'Comics;Creativity', 'Communication', 'Dating',\n",
       "       'Education;Education', 'Education', 'Education;Creativity',\n",
       "       'Education;Music & Video', 'Education;Action & Adventure',\n",
       "       'Education;Pretend Play', 'Education;Brain Games', 'Entertainment',\n",
       "       'Entertainment;Music & Video', 'Entertainment;Brain Games',\n",
       "       'Entertainment;Creativity', 'Events', 'Finance', 'Food & Drink',\n",
       "       'Health & Fitness', 'House & Home', 'Libraries & Demo',\n",
       "       'Lifestyle', 'Lifestyle;Pretend Play',\n",
       "       'Adventure;Action & Adventure', 'Arcade', 'Casual', 'Card',\n",
       "       'Casual;Pretend Play', 'Action', 'Strategy', 'Puzzle', 'Sports',\n",
       "       'Music', 'Word', 'Racing', 'Casual;Creativity',\n",
       "       'Casual;Action & Adventure', 'Adventure', 'Board', 'Trivia',\n",
       "       'Simulation', 'Role Playing', 'Simulation;Education',\n",
       "       'Action;Action & Adventure', 'Casual;Brain Games',\n",
       "       'Simulation;Action & Adventure', 'Educational;Creativity',\n",
       "       'Puzzle;Brain Games', 'Educational;Education', 'Card;Brain Games',\n",
       "       'Educational;Brain Games', 'Educational;Pretend Play',\n",
       "       'Entertainment;Education', 'Casual;Education',\n",
       "       'Music;Music & Video', 'Racing;Action & Adventure',\n",
       "       'Arcade;Pretend Play', 'Simulation;Pretend Play',\n",
       "       'Puzzle;Creativity', 'Sports;Action & Adventure',\n",
       "       'Educational;Action & Adventure', 'Arcade;Action & Adventure',\n",
       "       'Entertainment;Action & Adventure', 'Puzzle;Action & Adventure',\n",
       "       'Strategy;Action & Adventure', 'Music & Audio;Music & Video',\n",
       "       'Health & Fitness;Education', 'Adventure;Education',\n",
       "       'Board;Brain Games', 'Board;Action & Adventure',\n",
       "       'Board;Pretend Play', 'Entertainment;Pretend Play',\n",
       "       'Video Players & Editors;Creativity', 'Card;Action & Adventure',\n",
       "       'Medical', 'Social', 'Shopping', 'Photography', 'Travel & Local',\n",
       "       'Travel & Local;Action & Adventure', 'Tools', 'Tools;Education',\n",
       "       'Personalization', 'Productivity', 'Parenting',\n",
       "       'Parenting;Music & Video', 'Parenting;Education',\n",
       "       'Parenting;Brain Games', 'Weather', 'Video Players & Editors',\n",
       "       'Video Players & Editors;Music & Video', 'News & Magazines',\n",
       "       'Maps & Navigation', 'Health & Fitness;Action & Adventure',\n",
       "       'Role Playing;Pretend Play', 'Educational', 'Casino',\n",
       "       'Adventure;Brain Games', 'Role Playing;Action & Adventure',\n",
       "       'Trivia;Education', 'Lifestyle;Education',\n",
       "       'Books & Reference;Creativity', 'Books & Reference;Education',\n",
       "       'Puzzle;Education', 'Role Playing;Education',\n",
       "       'Role Playing;Brain Games', 'Strategy;Education',\n",
       "       'Racing;Pretend Play', 'Communication;Creativity',\n",
       "       'Strategy;Creativity'], dtype=object)"
      ]
     },
     "execution_count": 43,
     "metadata": {},
     "output_type": "execute_result"
    }
   ],
   "source": [
    "# unique values\n",
    "apps['Genres'].unique()"
   ]
  },
  {
   "cell_type": "markdown",
   "id": "295e5627",
   "metadata": {},
   "source": [
    "**Last Updated Column**"
   ]
  },
  {
   "cell_type": "code",
   "execution_count": 44,
   "id": "ccdfda64",
   "metadata": {},
   "outputs": [
    {
     "data": {
      "text/plain": [
       "0"
      ]
     },
     "execution_count": 44,
     "metadata": {},
     "output_type": "execute_result"
    }
   ],
   "source": [
    "# looing for null values\n",
    "apps['Last Updated'].isnull().sum()"
   ]
  },
  {
   "cell_type": "markdown",
   "id": "175837a1",
   "metadata": {},
   "source": [
    "**Current Ver Column**"
   ]
  },
  {
   "cell_type": "code",
   "execution_count": 45,
   "id": "0b8506b6",
   "metadata": {},
   "outputs": [
    {
     "data": {
      "text/plain": [
       "8"
      ]
     },
     "execution_count": 45,
     "metadata": {},
     "output_type": "execute_result"
    }
   ],
   "source": [
    "# looking for null values\n",
    "apps['Current Ver'].isnull().sum()"
   ]
  },
  {
   "cell_type": "code",
   "execution_count": 46,
   "id": "60319526",
   "metadata": {},
   "outputs": [],
   "source": [
    "# replacing null with none (acc. to doc)\n",
    "apps['Current Ver'] = apps['Current Ver'].replace(np.nan,'None')"
   ]
  },
  {
   "cell_type": "code",
   "execution_count": 47,
   "id": "bc886a4a",
   "metadata": {},
   "outputs": [
    {
     "data": {
      "text/plain": [
       "0"
      ]
     },
     "execution_count": 47,
     "metadata": {},
     "output_type": "execute_result"
    }
   ],
   "source": [
    "# checking null\n",
    "apps['Current Ver'].isnull().sum()"
   ]
  },
  {
   "cell_type": "code",
   "execution_count": 48,
   "id": "27a1b1a9",
   "metadata": {},
   "outputs": [
    {
     "data": {
      "text/plain": [
       "array(['1.0.0', '2.0.0', '1.2.4', ..., '1.0.612928', '0.3.4', '2.0.148.0'],\n",
       "      dtype=object)"
      ]
     },
     "execution_count": 48,
     "metadata": {},
     "output_type": "execute_result"
    }
   ],
   "source": [
    "# unique values\n",
    "apps['Current Ver'].unique()"
   ]
  },
  {
   "cell_type": "code",
   "execution_count": 49,
   "id": "5e9b0e1b",
   "metadata": {},
   "outputs": [
    {
     "data": {
      "text/plain": [
       "Varies with device            1178\n",
       "1                              822\n",
       "1.1                            268\n",
       "1.2                            181\n",
       "2                              162\n",
       "                              ... \n",
       "1.9.1.180419172630.4a15962       1\n",
       "125                              1\n",
       "0.59                             1\n",
       "5.3.2                            1\n",
       "4.94.19                          1\n",
       "Name: Current Ver, Length: 2698, dtype: int64"
      ]
     },
     "execution_count": 49,
     "metadata": {},
     "output_type": "execute_result"
    }
   ],
   "source": [
    "apps['Current Ver'].value_counts()"
   ]
  },
  {
   "cell_type": "markdown",
   "id": "0762633a",
   "metadata": {},
   "source": [
    "**Android Ver Column**"
   ]
  },
  {
   "cell_type": "code",
   "execution_count": 50,
   "id": "0717c115",
   "metadata": {},
   "outputs": [
    {
     "data": {
      "text/plain": [
       "2"
      ]
     },
     "execution_count": 50,
     "metadata": {},
     "output_type": "execute_result"
    }
   ],
   "source": [
    "# looking for null values\n",
    "apps['Android Ver'].isnull().sum()"
   ]
  },
  {
   "cell_type": "code",
   "execution_count": 51,
   "id": "ec246b8a",
   "metadata": {},
   "outputs": [],
   "source": [
    "# removing records with nulls\n",
    "apps = apps[~apps['Android Ver'].isnull()]"
   ]
  },
  {
   "cell_type": "code",
   "execution_count": 52,
   "id": "e5ccacfc",
   "metadata": {},
   "outputs": [
    {
     "data": {
      "text/plain": [
       "0"
      ]
     },
     "execution_count": 52,
     "metadata": {},
     "output_type": "execute_result"
    }
   ],
   "source": [
    "# checking nulls\n",
    "apps['Android Ver'].isnull().sum()"
   ]
  },
  {
   "cell_type": "code",
   "execution_count": 53,
   "id": "7c73a37f",
   "metadata": {},
   "outputs": [
    {
     "data": {
      "text/plain": [
       "array(['4.0.3 and up', '4.2 and up', '4.4 and up', '2.3 and up',\n",
       "       '3.0 and up', '4.1 and up', '4.0 and up', '2.3.3 and up',\n",
       "       'Varies with device', '2.2 and up', '5.0 and up', '6.0 and up',\n",
       "       '1.6 and up', '1.5 and up', '2.1 and up', '7.0 and up',\n",
       "       '5.1 and up', '4.3 and up', '4.0.3 - 7.1.1', '2.0 and up',\n",
       "       '3.2 and up', '4.4W and up', '7.1 and up', '7.0 - 7.1.1',\n",
       "       '8.0 and up', '5.0 - 8.0', '3.1 and up', '2.0.1 and up',\n",
       "       '4.1 - 7.1.1', '5.0 - 6.0', '1.0 and up', '2.2 - 7.1.1',\n",
       "       '5.0 - 7.1.1'], dtype=object)"
      ]
     },
     "execution_count": 53,
     "metadata": {},
     "output_type": "execute_result"
    }
   ],
   "source": [
    "# unique values\n",
    "apps['Android Ver'].unique()"
   ]
  },
  {
   "cell_type": "code",
   "execution_count": 54,
   "id": "e031a0b2",
   "metadata": {},
   "outputs": [
    {
     "data": {
      "text/plain": [
       "(9926, 12)"
      ]
     },
     "execution_count": 54,
     "metadata": {},
     "output_type": "execute_result"
    }
   ],
   "source": [
    "# earlier (10841,12)\n",
    "\n",
    "# new dimensions\n",
    "apps.shape"
   ]
  },
  {
   "cell_type": "markdown",
   "id": "0072435f",
   "metadata": {},
   "source": [
    "## Sanctity Checks"
   ]
  },
  {
   "cell_type": "markdown",
   "id": "5ab22a92",
   "metadata": {},
   "source": [
    "**1) Rating should be less than 5**"
   ]
  },
  {
   "cell_type": "code",
   "execution_count": 55,
   "id": "e5465d01",
   "metadata": {},
   "outputs": [
    {
     "data": {
      "text/plain": [
       "App\n",
       "Photo Editor & Candy Camera & Grid & ScrapBook        False\n",
       "Coloring book moana                                   False\n",
       "U Launcher Lite – FREE Live Cool Themes, Hide Apps    False\n",
       "Sketch - Draw & Paint                                 False\n",
       "Pixel Draw - Number Art Coloring Book                 False\n",
       "                                                      ...  \n",
       "Sya9a Maroc - FR                                      False\n",
       "Fr. Mike Schmitz Audio Teachings                      False\n",
       "Parkinson Exercices FR                                False\n",
       "The SCP Foundation DB fr nn5n                         False\n",
       "iHoroscope - 2018 Daily Horoscope & Astrology         False\n",
       "Name: Rating, Length: 9926, dtype: bool"
      ]
     },
     "execution_count": 55,
     "metadata": {},
     "output_type": "execute_result"
    }
   ],
   "source": [
    "# looking for records where rating is greater than 5\n",
    "apps['Rating']>5"
   ]
  },
  {
   "cell_type": "code",
   "execution_count": 56,
   "id": "5294a2eb",
   "metadata": {},
   "outputs": [
    {
     "data": {
      "text/plain": [
       "(0, 12)"
      ]
     },
     "execution_count": 56,
     "metadata": {},
     "output_type": "execute_result"
    }
   ],
   "source": [
    "# ratings>5\n",
    "apps[apps['Rating']>5].shape"
   ]
  },
  {
   "cell_type": "code",
   "execution_count": 57,
   "id": "31f08f6a",
   "metadata": {},
   "outputs": [
    {
     "data": {
      "text/plain": [
       "count    9926.000000\n",
       "mean        3.576375\n",
       "std         1.553419\n",
       "min         0.000000\n",
       "25%         3.700000\n",
       "50%         4.200000\n",
       "75%         4.500000\n",
       "max         5.000000\n",
       "Name: Rating, dtype: float64"
      ]
     },
     "execution_count": 57,
     "metadata": {},
     "output_type": "execute_result"
    }
   ],
   "source": [
    "apps['Rating'].describe()"
   ]
  },
  {
   "cell_type": "markdown",
   "id": "9d92d3e4",
   "metadata": {},
   "source": [
    "- All the Ratings are well within the defined limit i.e. less than 5."
   ]
  },
  {
   "cell_type": "markdown",
   "id": "5c73f3bd",
   "metadata": {},
   "source": [
    "**2) Reviews cannot be greater than Installs**"
   ]
  },
  {
   "cell_type": "code",
   "execution_count": 58,
   "id": "e17642eb",
   "metadata": {},
   "outputs": [
    {
     "data": {
      "text/html": [
       "<div>\n",
       "<style scoped>\n",
       "    .dataframe tbody tr th:only-of-type {\n",
       "        vertical-align: middle;\n",
       "    }\n",
       "\n",
       "    .dataframe tbody tr th {\n",
       "        vertical-align: top;\n",
       "    }\n",
       "\n",
       "    .dataframe thead th {\n",
       "        text-align: right;\n",
       "    }\n",
       "</style>\n",
       "<table border=\"1\" class=\"dataframe\">\n",
       "  <thead>\n",
       "    <tr style=\"text-align: right;\">\n",
       "      <th></th>\n",
       "      <th>Category</th>\n",
       "      <th>Rating</th>\n",
       "      <th>Reviews</th>\n",
       "      <th>Size</th>\n",
       "      <th>Installs</th>\n",
       "      <th>Type</th>\n",
       "      <th>Price</th>\n",
       "      <th>Content Rating</th>\n",
       "      <th>Genres</th>\n",
       "      <th>Last Updated</th>\n",
       "      <th>Current Ver</th>\n",
       "      <th>Android Ver</th>\n",
       "    </tr>\n",
       "    <tr>\n",
       "      <th>App</th>\n",
       "      <th></th>\n",
       "      <th></th>\n",
       "      <th></th>\n",
       "      <th></th>\n",
       "      <th></th>\n",
       "      <th></th>\n",
       "      <th></th>\n",
       "      <th></th>\n",
       "      <th></th>\n",
       "      <th></th>\n",
       "      <th></th>\n",
       "      <th></th>\n",
       "    </tr>\n",
       "  </thead>\n",
       "  <tbody>\n",
       "    <tr>\n",
       "      <th>KBA-EZ Health Guide</th>\n",
       "      <td>MEDICAL</td>\n",
       "      <td>5.0</td>\n",
       "      <td>4.0</td>\n",
       "      <td>25M</td>\n",
       "      <td>1.0</td>\n",
       "      <td>Free</td>\n",
       "      <td>0.00</td>\n",
       "      <td>Everyone</td>\n",
       "      <td>Medical</td>\n",
       "      <td>2018-02-08</td>\n",
       "      <td>1.0.72</td>\n",
       "      <td>4.0.3 and up</td>\n",
       "    </tr>\n",
       "    <tr>\n",
       "      <th>RMEduS - ????? ??? R ????? ?? ???</th>\n",
       "      <td>FAMILY</td>\n",
       "      <td>0.0</td>\n",
       "      <td>4.0</td>\n",
       "      <td>64M</td>\n",
       "      <td>1.0</td>\n",
       "      <td>Free</td>\n",
       "      <td>0.00</td>\n",
       "      <td>Everyone</td>\n",
       "      <td>Education</td>\n",
       "      <td>2018-07-17</td>\n",
       "      <td>1.0.1</td>\n",
       "      <td>4.4 and up</td>\n",
       "    </tr>\n",
       "    <tr>\n",
       "      <th>Alarmy (Sleep If U Can) - Pro</th>\n",
       "      <td>LIFESTYLE</td>\n",
       "      <td>4.8</td>\n",
       "      <td>10249.0</td>\n",
       "      <td>Varies with device</td>\n",
       "      <td>10000.0</td>\n",
       "      <td>Paid</td>\n",
       "      <td>2.49</td>\n",
       "      <td>Everyone</td>\n",
       "      <td>Lifestyle</td>\n",
       "      <td>2018-07-30</td>\n",
       "      <td>Varies with device</td>\n",
       "      <td>Varies with device</td>\n",
       "    </tr>\n",
       "    <tr>\n",
       "      <th>AX Watch for WatchMaker</th>\n",
       "      <td>PERSONALIZATION</td>\n",
       "      <td>0.0</td>\n",
       "      <td>2.0</td>\n",
       "      <td>238k</td>\n",
       "      <td>1.0</td>\n",
       "      <td>Paid</td>\n",
       "      <td>0.99</td>\n",
       "      <td>Everyone</td>\n",
       "      <td>Personalization</td>\n",
       "      <td>2017-08-18</td>\n",
       "      <td>1</td>\n",
       "      <td>2.3 and up</td>\n",
       "    </tr>\n",
       "    <tr>\n",
       "      <th>Ra Ga Ba</th>\n",
       "      <td>GAME</td>\n",
       "      <td>5.0</td>\n",
       "      <td>2.0</td>\n",
       "      <td>20M</td>\n",
       "      <td>1.0</td>\n",
       "      <td>Paid</td>\n",
       "      <td>1.49</td>\n",
       "      <td>Everyone</td>\n",
       "      <td>Arcade</td>\n",
       "      <td>2017-08-02</td>\n",
       "      <td>1.0.4</td>\n",
       "      <td>2.3 and up</td>\n",
       "    </tr>\n",
       "    <tr>\n",
       "      <th>Sam.BN Pro</th>\n",
       "      <td>TOOLS</td>\n",
       "      <td>0.0</td>\n",
       "      <td>11.0</td>\n",
       "      <td>2.0M</td>\n",
       "      <td>10.0</td>\n",
       "      <td>Paid</td>\n",
       "      <td>0.99</td>\n",
       "      <td>Everyone</td>\n",
       "      <td>Tools</td>\n",
       "      <td>2015-03-27</td>\n",
       "      <td>1.0.0</td>\n",
       "      <td>4.0.3 and up</td>\n",
       "    </tr>\n",
       "    <tr>\n",
       "      <th>Brick Breaker BR</th>\n",
       "      <td>GAME</td>\n",
       "      <td>5.0</td>\n",
       "      <td>7.0</td>\n",
       "      <td>19M</td>\n",
       "      <td>5.0</td>\n",
       "      <td>Free</td>\n",
       "      <td>0.00</td>\n",
       "      <td>Everyone</td>\n",
       "      <td>Arcade</td>\n",
       "      <td>2018-07-23</td>\n",
       "      <td>1</td>\n",
       "      <td>4.1 and up</td>\n",
       "    </tr>\n",
       "    <tr>\n",
       "      <th>Trovami se ci riesci</th>\n",
       "      <td>GAME</td>\n",
       "      <td>5.0</td>\n",
       "      <td>11.0</td>\n",
       "      <td>6.1M</td>\n",
       "      <td>10.0</td>\n",
       "      <td>Free</td>\n",
       "      <td>0.00</td>\n",
       "      <td>Everyone</td>\n",
       "      <td>Arcade</td>\n",
       "      <td>2017-11-03</td>\n",
       "      <td>0.1</td>\n",
       "      <td>2.3 and up</td>\n",
       "    </tr>\n",
       "    <tr>\n",
       "      <th>DN Blog</th>\n",
       "      <td>SOCIAL</td>\n",
       "      <td>5.0</td>\n",
       "      <td>20.0</td>\n",
       "      <td>4.2M</td>\n",
       "      <td>10.0</td>\n",
       "      <td>Free</td>\n",
       "      <td>0.00</td>\n",
       "      <td>Teen</td>\n",
       "      <td>Social</td>\n",
       "      <td>2018-07-23</td>\n",
       "      <td>1</td>\n",
       "      <td>4.0 and up</td>\n",
       "    </tr>\n",
       "    <tr>\n",
       "      <th>DZ Puzzle</th>\n",
       "      <td>FAMILY</td>\n",
       "      <td>0.0</td>\n",
       "      <td>14.0</td>\n",
       "      <td>47M</td>\n",
       "      <td>10.0</td>\n",
       "      <td>Paid</td>\n",
       "      <td>0.99</td>\n",
       "      <td>Everyone</td>\n",
       "      <td>Puzzle</td>\n",
       "      <td>2017-04-22</td>\n",
       "      <td>1.2</td>\n",
       "      <td>2.3 and up</td>\n",
       "    </tr>\n",
       "    <tr>\n",
       "      <th>Mu.F.O.</th>\n",
       "      <td>GAME</td>\n",
       "      <td>5.0</td>\n",
       "      <td>2.0</td>\n",
       "      <td>16M</td>\n",
       "      <td>1.0</td>\n",
       "      <td>Paid</td>\n",
       "      <td>0.99</td>\n",
       "      <td>Everyone</td>\n",
       "      <td>Arcade</td>\n",
       "      <td>2017-03-03</td>\n",
       "      <td>1</td>\n",
       "      <td>2.3 and up</td>\n",
       "    </tr>\n",
       "  </tbody>\n",
       "</table>\n",
       "</div>"
      ],
      "text/plain": [
       "                                          Category  Rating  Reviews  \\\n",
       "App                                                                   \n",
       "KBA-EZ Health Guide                        MEDICAL     5.0      4.0   \n",
       "RMEduS - ????? ??? R ????? ?? ???           FAMILY     0.0      4.0   \n",
       "Alarmy (Sleep If U Can) - Pro            LIFESTYLE     4.8  10249.0   \n",
       "AX Watch for WatchMaker            PERSONALIZATION     0.0      2.0   \n",
       "Ra Ga Ba                                      GAME     5.0      2.0   \n",
       "Sam.BN Pro                                   TOOLS     0.0     11.0   \n",
       "Brick Breaker BR                              GAME     5.0      7.0   \n",
       "Trovami se ci riesci                          GAME     5.0     11.0   \n",
       "DN Blog                                     SOCIAL     5.0     20.0   \n",
       "DZ Puzzle                                   FAMILY     0.0     14.0   \n",
       "Mu.F.O.                                       GAME     5.0      2.0   \n",
       "\n",
       "                                                 Size  Installs  Type  Price  \\\n",
       "App                                                                            \n",
       "KBA-EZ Health Guide                               25M       1.0  Free   0.00   \n",
       "RMEduS - ????? ??? R ????? ?? ???                 64M       1.0  Free   0.00   \n",
       "Alarmy (Sleep If U Can) - Pro      Varies with device   10000.0  Paid   2.49   \n",
       "AX Watch for WatchMaker                          238k       1.0  Paid   0.99   \n",
       "Ra Ga Ba                                          20M       1.0  Paid   1.49   \n",
       "Sam.BN Pro                                       2.0M      10.0  Paid   0.99   \n",
       "Brick Breaker BR                                  19M       5.0  Free   0.00   \n",
       "Trovami se ci riesci                             6.1M      10.0  Free   0.00   \n",
       "DN Blog                                          4.2M      10.0  Free   0.00   \n",
       "DZ Puzzle                                         47M      10.0  Paid   0.99   \n",
       "Mu.F.O.                                           16M       1.0  Paid   0.99   \n",
       "\n",
       "                                  Content Rating           Genres  \\\n",
       "App                                                                 \n",
       "KBA-EZ Health Guide                     Everyone          Medical   \n",
       "RMEduS - ????? ??? R ????? ?? ???       Everyone        Education   \n",
       "Alarmy (Sleep If U Can) - Pro           Everyone        Lifestyle   \n",
       "AX Watch for WatchMaker                 Everyone  Personalization   \n",
       "Ra Ga Ba                                Everyone           Arcade   \n",
       "Sam.BN Pro                              Everyone            Tools   \n",
       "Brick Breaker BR                        Everyone           Arcade   \n",
       "Trovami se ci riesci                    Everyone           Arcade   \n",
       "DN Blog                                     Teen           Social   \n",
       "DZ Puzzle                               Everyone           Puzzle   \n",
       "Mu.F.O.                                 Everyone           Arcade   \n",
       "\n",
       "                                  Last Updated         Current Ver  \\\n",
       "App                                                                  \n",
       "KBA-EZ Health Guide                 2018-02-08              1.0.72   \n",
       "RMEduS - ????? ??? R ????? ?? ???   2018-07-17               1.0.1   \n",
       "Alarmy (Sleep If U Can) - Pro       2018-07-30  Varies with device   \n",
       "AX Watch for WatchMaker             2017-08-18                   1   \n",
       "Ra Ga Ba                            2017-08-02               1.0.4   \n",
       "Sam.BN Pro                          2015-03-27               1.0.0   \n",
       "Brick Breaker BR                    2018-07-23                   1   \n",
       "Trovami se ci riesci                2017-11-03                 0.1   \n",
       "DN Blog                             2018-07-23                   1   \n",
       "DZ Puzzle                           2017-04-22                 1.2   \n",
       "Mu.F.O.                             2017-03-03                   1   \n",
       "\n",
       "                                          Android Ver  \n",
       "App                                                    \n",
       "KBA-EZ Health Guide                      4.0.3 and up  \n",
       "RMEduS - ????? ??? R ????? ?? ???          4.4 and up  \n",
       "Alarmy (Sleep If U Can) - Pro      Varies with device  \n",
       "AX Watch for WatchMaker                    2.3 and up  \n",
       "Ra Ga Ba                                   2.3 and up  \n",
       "Sam.BN Pro                               4.0.3 and up  \n",
       "Brick Breaker BR                           4.1 and up  \n",
       "Trovami se ci riesci                       2.3 and up  \n",
       "DN Blog                                    4.0 and up  \n",
       "DZ Puzzle                                  2.3 and up  \n",
       "Mu.F.O.                                    2.3 and up  "
      ]
     },
     "execution_count": 58,
     "metadata": {},
     "output_type": "execute_result"
    }
   ],
   "source": [
    "# looking for records where reviews are greateer than installs\n",
    "apps[apps['Reviews']>apps['Installs']]"
   ]
  },
  {
   "cell_type": "code",
   "execution_count": 59,
   "id": "8a650d46",
   "metadata": {},
   "outputs": [
    {
     "data": {
      "text/plain": [
       "(11, 12)"
      ]
     },
     "execution_count": 59,
     "metadata": {},
     "output_type": "execute_result"
    }
   ],
   "source": [
    "# no. of records\n",
    "apps[apps['Reviews']>apps['Installs']].shape"
   ]
  },
  {
   "cell_type": "markdown",
   "id": "e9058ea2",
   "metadata": {},
   "source": [
    "- There are 11 records where Reviews are greater than Installs which is not an ideal case, hence we'll be storing only those records where Reviews are less than or equal to Installs.   "
   ]
  },
  {
   "cell_type": "code",
   "execution_count": 60,
   "id": "9b7276c4",
   "metadata": {},
   "outputs": [],
   "source": [
    "# keeping records where reviews <= installs\n",
    "apps = apps[apps['Reviews']<= apps['Installs']]"
   ]
  },
  {
   "cell_type": "code",
   "execution_count": 61,
   "id": "d7812f56",
   "metadata": {},
   "outputs": [
    {
     "data": {
      "text/plain": [
       "(0, 12)"
      ]
     },
     "execution_count": 61,
     "metadata": {},
     "output_type": "execute_result"
    }
   ],
   "source": [
    "apps[apps['Reviews']>apps['Installs']].shape"
   ]
  },
  {
   "cell_type": "markdown",
   "id": "bd6d53d6",
   "metadata": {},
   "source": [
    "**3) Free apps should not be priced**"
   ]
  },
  {
   "cell_type": "code",
   "execution_count": 62,
   "id": "f0f67381",
   "metadata": {},
   "outputs": [
    {
     "data": {
      "text/html": [
       "<div>\n",
       "<style scoped>\n",
       "    .dataframe tbody tr th:only-of-type {\n",
       "        vertical-align: middle;\n",
       "    }\n",
       "\n",
       "    .dataframe tbody tr th {\n",
       "        vertical-align: top;\n",
       "    }\n",
       "\n",
       "    .dataframe thead th {\n",
       "        text-align: right;\n",
       "    }\n",
       "</style>\n",
       "<table border=\"1\" class=\"dataframe\">\n",
       "  <thead>\n",
       "    <tr style=\"text-align: right;\">\n",
       "      <th></th>\n",
       "      <th>Category</th>\n",
       "      <th>Rating</th>\n",
       "      <th>Reviews</th>\n",
       "      <th>Size</th>\n",
       "      <th>Installs</th>\n",
       "      <th>Type</th>\n",
       "      <th>Price</th>\n",
       "      <th>Content Rating</th>\n",
       "      <th>Genres</th>\n",
       "      <th>Last Updated</th>\n",
       "      <th>Current Ver</th>\n",
       "      <th>Android Ver</th>\n",
       "    </tr>\n",
       "    <tr>\n",
       "      <th>App</th>\n",
       "      <th></th>\n",
       "      <th></th>\n",
       "      <th></th>\n",
       "      <th></th>\n",
       "      <th></th>\n",
       "      <th></th>\n",
       "      <th></th>\n",
       "      <th></th>\n",
       "      <th></th>\n",
       "      <th></th>\n",
       "      <th></th>\n",
       "      <th></th>\n",
       "    </tr>\n",
       "  </thead>\n",
       "  <tbody>\n",
       "  </tbody>\n",
       "</table>\n",
       "</div>"
      ],
      "text/plain": [
       "Empty DataFrame\n",
       "Columns: [Category, Rating, Reviews, Size, Installs, Type, Price, Content Rating, Genres, Last Updated, Current Ver, Android Ver]\n",
       "Index: []"
      ]
     },
     "execution_count": 62,
     "metadata": {},
     "output_type": "execute_result"
    }
   ],
   "source": [
    "# Looking for free apps that are priced\n",
    "apps[(apps['Type']=='Free') & (apps['Price']>0)]"
   ]
  },
  {
   "cell_type": "code",
   "execution_count": 63,
   "id": "16a1bd41",
   "metadata": {},
   "outputs": [
    {
     "data": {
      "text/plain": [
       "(0, 12)"
      ]
     },
     "execution_count": 63,
     "metadata": {},
     "output_type": "execute_result"
    }
   ],
   "source": [
    "# shape\n",
    "apps[(apps['Type']=='Free') & (apps['Price']>0)].shape"
   ]
  },
  {
   "cell_type": "markdown",
   "id": "b0fab330",
   "metadata": {},
   "source": [
    "- No free app has been charged."
   ]
  },
  {
   "cell_type": "markdown",
   "id": "c949eac2",
   "metadata": {},
   "source": [
    "### Reviews Dataset"
   ]
  },
  {
   "cell_type": "code",
   "execution_count": 64,
   "id": "8f3def9f",
   "metadata": {},
   "outputs": [
    {
     "data": {
      "text/html": [
       "<div>\n",
       "<style scoped>\n",
       "    .dataframe tbody tr th:only-of-type {\n",
       "        vertical-align: middle;\n",
       "    }\n",
       "\n",
       "    .dataframe tbody tr th {\n",
       "        vertical-align: top;\n",
       "    }\n",
       "\n",
       "    .dataframe thead th {\n",
       "        text-align: right;\n",
       "    }\n",
       "</style>\n",
       "<table border=\"1\" class=\"dataframe\">\n",
       "  <thead>\n",
       "    <tr style=\"text-align: right;\">\n",
       "      <th></th>\n",
       "      <th>Translated_Review</th>\n",
       "      <th>Sentiment</th>\n",
       "      <th>Sentiment_Polarity</th>\n",
       "      <th>Sentiment_Subjectivity</th>\n",
       "    </tr>\n",
       "    <tr>\n",
       "      <th>App</th>\n",
       "      <th></th>\n",
       "      <th></th>\n",
       "      <th></th>\n",
       "      <th></th>\n",
       "    </tr>\n",
       "  </thead>\n",
       "  <tbody>\n",
       "    <tr>\n",
       "      <th>10 Best Foods for You</th>\n",
       "      <td>I like eat delicious food. That's I'm cooking ...</td>\n",
       "      <td>Positive</td>\n",
       "      <td>1.00</td>\n",
       "      <td>0.533333</td>\n",
       "    </tr>\n",
       "    <tr>\n",
       "      <th>10 Best Foods for You</th>\n",
       "      <td>This help eating healthy exercise regular basis</td>\n",
       "      <td>Positive</td>\n",
       "      <td>0.25</td>\n",
       "      <td>0.288462</td>\n",
       "    </tr>\n",
       "    <tr>\n",
       "      <th>10 Best Foods for You</th>\n",
       "      <td>NaN</td>\n",
       "      <td>NaN</td>\n",
       "      <td>NaN</td>\n",
       "      <td>NaN</td>\n",
       "    </tr>\n",
       "    <tr>\n",
       "      <th>10 Best Foods for You</th>\n",
       "      <td>Works great especially going grocery store</td>\n",
       "      <td>Positive</td>\n",
       "      <td>0.40</td>\n",
       "      <td>0.875000</td>\n",
       "    </tr>\n",
       "    <tr>\n",
       "      <th>10 Best Foods for You</th>\n",
       "      <td>Best idea us</td>\n",
       "      <td>Positive</td>\n",
       "      <td>1.00</td>\n",
       "      <td>0.300000</td>\n",
       "    </tr>\n",
       "  </tbody>\n",
       "</table>\n",
       "</div>"
      ],
      "text/plain": [
       "                                                       Translated_Review  \\\n",
       "App                                                                        \n",
       "10 Best Foods for You  I like eat delicious food. That's I'm cooking ...   \n",
       "10 Best Foods for You    This help eating healthy exercise regular basis   \n",
       "10 Best Foods for You                                                NaN   \n",
       "10 Best Foods for You         Works great especially going grocery store   \n",
       "10 Best Foods for You                                       Best idea us   \n",
       "\n",
       "                      Sentiment  Sentiment_Polarity  Sentiment_Subjectivity  \n",
       "App                                                                          \n",
       "10 Best Foods for You  Positive                1.00                0.533333  \n",
       "10 Best Foods for You  Positive                0.25                0.288462  \n",
       "10 Best Foods for You       NaN                 NaN                     NaN  \n",
       "10 Best Foods for You  Positive                0.40                0.875000  \n",
       "10 Best Foods for You  Positive                1.00                0.300000  "
      ]
     },
     "execution_count": 64,
     "metadata": {},
     "output_type": "execute_result"
    }
   ],
   "source": [
    "# top 5 rows\n",
    "reviews.head()"
   ]
  },
  {
   "cell_type": "code",
   "execution_count": 65,
   "id": "bddb08a9",
   "metadata": {},
   "outputs": [
    {
     "name": "stdout",
     "output_type": "stream",
     "text": [
      "<class 'pandas.core.frame.DataFrame'>\n",
      "Index: 64295 entries, 10 Best Foods for You to Houzz Interior Design Ideas\n",
      "Data columns (total 4 columns):\n",
      " #   Column                  Non-Null Count  Dtype  \n",
      "---  ------                  --------------  -----  \n",
      " 0   Translated_Review       37427 non-null  object \n",
      " 1   Sentiment               37432 non-null  object \n",
      " 2   Sentiment_Polarity      37432 non-null  float64\n",
      " 3   Sentiment_Subjectivity  37432 non-null  float64\n",
      "dtypes: float64(2), object(2)\n",
      "memory usage: 2.5+ MB\n"
     ]
    }
   ],
   "source": [
    "# info\n",
    "reviews.info()"
   ]
  },
  {
   "cell_type": "code",
   "execution_count": 66,
   "id": "500428ea",
   "metadata": {},
   "outputs": [
    {
     "data": {
      "text/plain": [
       "(64295, 4)"
      ]
     },
     "execution_count": 66,
     "metadata": {},
     "output_type": "execute_result"
    }
   ],
   "source": [
    "# dimensions\n",
    "reviews.shape"
   ]
  },
  {
   "cell_type": "code",
   "execution_count": 67,
   "id": "240497f0",
   "metadata": {},
   "outputs": [
    {
     "data": {
      "text/plain": [
       "36299"
      ]
     },
     "execution_count": 67,
     "metadata": {},
     "output_type": "execute_result"
    }
   ],
   "source": [
    "# looking for duplicates\n",
    "reviews.duplicated().sum()"
   ]
  },
  {
   "cell_type": "markdown",
   "id": "645c3c6b",
   "metadata": {},
   "source": [
    "- Not removing duplicates as a single app can have multiple reviews thus multiple entry of the same app."
   ]
  },
  {
   "cell_type": "code",
   "execution_count": 68,
   "id": "6a6e0235",
   "metadata": {},
   "outputs": [
    {
     "data": {
      "text/plain": [
       "Translated_Review         26868\n",
       "Sentiment                 26863\n",
       "Sentiment_Polarity        26863\n",
       "Sentiment_Subjectivity    26863\n",
       "dtype: int64"
      ]
     },
     "execution_count": 68,
     "metadata": {},
     "output_type": "execute_result"
    }
   ],
   "source": [
    "# looking for null values\n",
    "reviews.isnull().sum()"
   ]
  },
  {
   "cell_type": "markdown",
   "id": "88b2e734",
   "metadata": {},
   "source": [
    "**Translated_Review column**"
   ]
  },
  {
   "cell_type": "code",
   "execution_count": 69,
   "id": "fb3f7758",
   "metadata": {},
   "outputs": [],
   "source": [
    "# removing all the rows with null values (acc. to doc)\n",
    "reviews = reviews[~reviews['Translated_Review'].isnull()]"
   ]
  },
  {
   "cell_type": "code",
   "execution_count": 70,
   "id": "4b15eab9",
   "metadata": {},
   "outputs": [
    {
     "data": {
      "text/plain": [
       "0"
      ]
     },
     "execution_count": 70,
     "metadata": {},
     "output_type": "execute_result"
    }
   ],
   "source": [
    "# checking for nulls\n",
    "reviews['Translated_Review'].isnull().sum()"
   ]
  },
  {
   "cell_type": "code",
   "execution_count": 71,
   "id": "c7980a74",
   "metadata": {},
   "outputs": [
    {
     "data": {
      "text/plain": [
       "array(['I like eat delicious food. That\\'s I\\'m cooking food myself, case \"10 Best Foods\" helps lot, also \"Best Before (Shelf Life)\"',\n",
       "       'This help eating healthy exercise regular basis',\n",
       "       'Works great especially going grocery store', ...,\n",
       "       'Dumb app, I wanted post property rent give option. Website work. Waste time space phone.',\n",
       "       'I property business got link SMS happy performance still guys need raise bar guys Cheers',\n",
       "       'Useless app, I searched flats kondapur, Hyderabad . None number reachable I know flats unavailable would keep posts active'],\n",
       "      dtype=object)"
      ]
     },
     "execution_count": 71,
     "metadata": {},
     "output_type": "execute_result"
    }
   ],
   "source": [
    "# unique values\n",
    "reviews['Translated_Review'].unique()"
   ]
  },
  {
   "cell_type": "markdown",
   "id": "ac3daea3",
   "metadata": {},
   "source": [
    "**Sentiment column**"
   ]
  },
  {
   "cell_type": "code",
   "execution_count": 72,
   "id": "dd97dec7",
   "metadata": {},
   "outputs": [
    {
     "data": {
      "text/plain": [
       "0"
      ]
     },
     "execution_count": 72,
     "metadata": {},
     "output_type": "execute_result"
    }
   ],
   "source": [
    "# looking for null values\n",
    "reviews['Sentiment'].isnull().sum()"
   ]
  },
  {
   "cell_type": "code",
   "execution_count": 73,
   "id": "bedf3ab0",
   "metadata": {},
   "outputs": [
    {
     "data": {
      "text/plain": [
       "array(['Positive', 'Neutral', 'Negative'], dtype=object)"
      ]
     },
     "execution_count": 73,
     "metadata": {},
     "output_type": "execute_result"
    }
   ],
   "source": [
    "# unique values\n",
    "reviews['Sentiment'].unique()"
   ]
  },
  {
   "cell_type": "code",
   "execution_count": 74,
   "id": "da66fdc8",
   "metadata": {},
   "outputs": [
    {
     "data": {
      "text/plain": [
       "Positive    23998\n",
       "Negative     8271\n",
       "Neutral      5158\n",
       "Name: Sentiment, dtype: int64"
      ]
     },
     "execution_count": 74,
     "metadata": {},
     "output_type": "execute_result"
    }
   ],
   "source": [
    "reviews['Sentiment'].value_counts()"
   ]
  },
  {
   "cell_type": "markdown",
   "id": "79a250c9",
   "metadata": {},
   "source": [
    "**Sentiment_Polarity column**"
   ]
  },
  {
   "cell_type": "code",
   "execution_count": 75,
   "id": "71fe42d1",
   "metadata": {},
   "outputs": [
    {
     "data": {
      "text/plain": [
       "0"
      ]
     },
     "execution_count": 75,
     "metadata": {},
     "output_type": "execute_result"
    }
   ],
   "source": [
    "# looking for null values\n",
    "reviews['Sentiment_Polarity'].isnull().sum()"
   ]
  },
  {
   "cell_type": "code",
   "execution_count": 76,
   "id": "f879363e",
   "metadata": {},
   "outputs": [
    {
     "data": {
      "text/plain": [
       "array([ 1.        ,  0.25      ,  0.4       , ..., -0.52857143,\n",
       "       -0.37777778,  0.17333333])"
      ]
     },
     "execution_count": 76,
     "metadata": {},
     "output_type": "execute_result"
    }
   ],
   "source": [
    "# unique values\n",
    "reviews['Sentiment_Polarity'].unique()"
   ]
  },
  {
   "cell_type": "code",
   "execution_count": 77,
   "id": "f888ad81",
   "metadata": {},
   "outputs": [
    {
     "data": {
      "text/plain": [
       "count    37427.000000\n",
       "mean         0.182171\n",
       "std          0.351318\n",
       "min         -1.000000\n",
       "25%          0.000000\n",
       "50%          0.150000\n",
       "75%          0.400000\n",
       "max          1.000000\n",
       "Name: Sentiment_Polarity, dtype: float64"
      ]
     },
     "execution_count": 77,
     "metadata": {},
     "output_type": "execute_result"
    }
   ],
   "source": [
    "# description\n",
    "reviews['Sentiment_Polarity'].describe()"
   ]
  },
  {
   "cell_type": "markdown",
   "id": "6f01be19",
   "metadata": {},
   "source": [
    "**Sentiment_Subjectivity column**"
   ]
  },
  {
   "cell_type": "code",
   "execution_count": 78,
   "id": "99a15420",
   "metadata": {},
   "outputs": [
    {
     "data": {
      "text/plain": [
       "0"
      ]
     },
     "execution_count": 78,
     "metadata": {},
     "output_type": "execute_result"
    }
   ],
   "source": [
    "# looking for null values\n",
    "reviews['Sentiment_Subjectivity'].isnull().sum()"
   ]
  },
  {
   "cell_type": "code",
   "execution_count": 79,
   "id": "43ca3837",
   "metadata": {},
   "outputs": [
    {
     "data": {
      "text/plain": [
       "array([0.53333333, 0.28846154, 0.875     , ..., 0.51145833, 0.7172619 ,\n",
       "       0.2594697 ])"
      ]
     },
     "execution_count": 79,
     "metadata": {},
     "output_type": "execute_result"
    }
   ],
   "source": [
    "# unique values\n",
    "reviews['Sentiment_Subjectivity'].unique()"
   ]
  },
  {
   "cell_type": "code",
   "execution_count": 80,
   "id": "d14fd7fb",
   "metadata": {},
   "outputs": [
    {
     "data": {
      "text/plain": [
       "count    37427.000000\n",
       "mean         0.492770\n",
       "std          0.259904\n",
       "min          0.000000\n",
       "25%          0.357143\n",
       "50%          0.514286\n",
       "75%          0.650000\n",
       "max          1.000000\n",
       "Name: Sentiment_Subjectivity, dtype: float64"
      ]
     },
     "execution_count": 80,
     "metadata": {},
     "output_type": "execute_result"
    }
   ],
   "source": [
    "# description\n",
    "reviews['Sentiment_Subjectivity'].describe()"
   ]
  },
  {
   "cell_type": "markdown",
   "id": "5f563bfe",
   "metadata": {},
   "source": [
    "**After cleaning both the files**"
   ]
  },
  {
   "cell_type": "code",
   "execution_count": 81,
   "id": "7bc5ef3f",
   "metadata": {},
   "outputs": [
    {
     "data": {
      "text/plain": [
       "(9915, 12)"
      ]
     },
     "execution_count": 81,
     "metadata": {},
     "output_type": "execute_result"
    }
   ],
   "source": [
    "# new dimension of apps dataset\n",
    "apps.shape"
   ]
  },
  {
   "cell_type": "markdown",
   "id": "ff51391e",
   "metadata": {},
   "source": [
    "- older dimension (10841,12)"
   ]
  },
  {
   "cell_type": "code",
   "execution_count": 82,
   "id": "e36c18d5",
   "metadata": {},
   "outputs": [
    {
     "data": {
      "text/plain": [
       "(37427, 4)"
      ]
     },
     "execution_count": 82,
     "metadata": {},
     "output_type": "execute_result"
    }
   ],
   "source": [
    "# new dimension of reviews dataset\n",
    "reviews.shape"
   ]
  },
  {
   "cell_type": "markdown",
   "id": "d14190a0",
   "metadata": {},
   "source": [
    "- older dimension (64295,4)"
   ]
  },
  {
   "cell_type": "markdown",
   "id": "e90db87a",
   "metadata": {},
   "source": [
    "**converting new cleaned files to csv**"
   ]
  },
  {
   "cell_type": "code",
   "execution_count": 83,
   "id": "1f0900f6",
   "metadata": {},
   "outputs": [],
   "source": [
    "apps.to_csv('cleaned_playstore_apps.csv')"
   ]
  },
  {
   "cell_type": "code",
   "execution_count": 84,
   "id": "620eee1c",
   "metadata": {},
   "outputs": [],
   "source": [
    "reviews.to_csv('cleaned_playstore_reviews.csv')"
   ]
  },
  {
   "cell_type": "code",
   "execution_count": null,
   "id": "9b324935",
   "metadata": {},
   "outputs": [],
   "source": []
  }
 ],
 "metadata": {
  "kernelspec": {
   "display_name": "Python 3",
   "language": "python",
   "name": "python3"
  },
  "language_info": {
   "codemirror_mode": {
    "name": "ipython",
    "version": 3
   },
   "file_extension": ".py",
   "mimetype": "text/x-python",
   "name": "python",
   "nbconvert_exporter": "python",
   "pygments_lexer": "ipython3",
   "version": "3.8.8"
  }
 },
 "nbformat": 4,
 "nbformat_minor": 5
}
